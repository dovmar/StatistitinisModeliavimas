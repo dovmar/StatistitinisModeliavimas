{
 "cells": [
  {
   "cell_type": "markdown",
   "id": "matched-palace",
   "metadata": {},
   "source": [
    "## 1 Užduotis"
   ]
  },
  {
   "cell_type": "markdown",
   "id": "moved-speaker",
   "metadata": {},
   "source": [
    "Sugeneruokite pseudoatsitiktinių skaičių sekas tiesiniu kongruentiniu\n",
    "metodu su maksimaliu periodu, kai modulis m = 896 ir m = 927. Daugiklius\n",
    "a parinkite taip, kad galingumai būtų didžiausi. Prieauglio c parinkimui\n",
    "naudokitės gretimų narių koreliacija (teoriniai testai)."
   ]
  },
  {
   "cell_type": "code",
   "execution_count": 1,
   "id": "judicial-hearing",
   "metadata": {},
   "outputs": [],
   "source": [
    "class Generator:\n",
    "    def __init__(self,x,a,c,m):\n",
    "        self.x = x\n",
    "        self.a = a\n",
    "        self.c = c\n",
    "        self.m = m\n",
    "        self.new = True \n",
    "    def generate(self,n):\n",
    "        lst = []\n",
    "        if self.new:\n",
    "            self.new = False\n",
    "            lst.append(self.x)\n",
    "            n = n - 1\n",
    "        for i in range(n):\n",
    "            self.x = (self.x * self.a + self.c)%self.m\n",
    "            lst.append(self.x)\n",
    "        return lst"
   ]
  },
  {
   "cell_type": "code",
   "execution_count": 2,
   "id": "facial-marketing",
   "metadata": {},
   "outputs": [
    {
     "name": "stdout",
     "output_type": "stream",
     "text": [
      "[0, 187, 234, 701, 804, 207, 814, 497, 264, 675, 50, 741, 172, 695, 630, 537, 528, 267, 762, 781, 436, 287, 446, 577, 792, 755, 578, 821, 700, 775, 262, 617, 160, 347, 394, 861, 68, 367, 78, 657, 424, 835, 210, 5, 332, 855, 790, 697, 688, 427, 26, 45, 596, 447, 606, 737, 56, 19, 738, 85, 860, 39, 422, 777, 320, 507, 554, 125, 228, 527, 238, 817, 584, 99, 370, 165, 492, 119, 54, 857, 848, 587, 186, 205, 756, 607, 766, 1, 216, 179, 2, 245, 124, 199, 582, 41, 480, 667, 714, 285, 388, 687, 398, 81, 744, 259, 530, 325, 652, 279, 214, 121, 112, 747, 346, 365, 20, 767, 30, 161, 376, 339, 162, 405, 284, 359, 742, 201, 640, 827, 874, 445, 548, 847, 558, 241, 8, 419, 690, 485, 812, 439, 374, 281, 272, 11, 506, 525, 180, 31, 190, 321, 536, 499, 322, 565, 444, 519, 6, 361, 800, 91, 138, 605, 708, 111, 718, 401, 168, 579, 850, 645, 76, 599, 534, 441, 432, 171, 666, 685, 340, 191, 350, 481, 696, 659, 482, 725, 604, 679, 166, 521, 64, 251, 298, 765, 868, 271, 878, 561, 328, 739, 114, 805, 236, 759, 694, 601, 592, 331, 826, 845, 500, 351, 510, 641, 856, 819, 642, 885, 764, 839, 326, 681, 224, 411, 458, 29, 132, 431, 142, 721, 488, 3, 274, 69, 396, 23, 854, 761, 752, 491, 90, 109, 660, 511, 670, 801, 120, 83, 802, 149, 28, 103, 486, 841, 384, 571, 618, 189, 292, 591, 302, 881, 648, 163, 434, 229, 556, 183, 118, 25, 16, 651, 250, 269, 820, 671, 830, 65, 280, 243, 66, 309, 188, 263, 646, 105, 544, 731, 778, 349, 452, 751, 462, 145, 808, 323, 594, 389, 716, 343, 278, 185, 176, 811, 410, 429, 84, 831, 94, 225, 440, 403, 226, 469, 348, 423, 806, 265, 704, 891, 42, 509, 612, 15, 622, 305, 72, 483, 754, 549, 876, 503, 438, 345, 336, 75, 570, 589, 244, 95, 254, 385, 600, 563, 386, 629, 508, 583, 70, 425, 864, 155, 202, 669, 772, 175, 782, 465, 232, 643, 18, 709, 140, 663, 598, 505, 496, 235, 730, 749, 404, 255, 414, 545, 760, 723, 546, 789, 668, 743, 230, 585, 128, 315, 362, 829, 36, 335, 46, 625, 392, 803, 178, 869, 300, 823, 758, 665, 656, 395, 890, 13, 564, 415, 574, 705, 24, 883, 706, 53, 828, 7, 390, 745, 288, 475, 522, 93, 196, 495, 206, 785, 552, 67, 338, 133, 460, 87, 22, 825, 816, 555, 154, 173, 724, 575, 734, 865, 184, 147, 866, 213, 92, 167, 550, 9, 448, 635, 682, 253, 356, 655, 366, 49, 712, 227, 498, 293, 620, 247, 182, 89, 80, 715, 314, 333, 884, 735, 894, 129, 344, 307, 130, 373, 252, 327, 710, 169, 608, 795, 842, 413, 516, 815, 526, 209, 872, 387, 658, 453, 780, 407, 342, 249, 240, 875, 474, 493, 148, 895, 158, 289, 504, 467, 290, 533, 412, 487, 870, 329, 768, 59, 106, 573, 676, 79, 686, 369, 136, 547, 818, 613, 44, 567, 502, 409, 400, 139, 634, 653, 308, 159, 318, 449, 664, 627, 450, 693, 572, 647, 134, 489, 32, 219, 266, 733, 836, 239, 846, 529, 296, 707, 82, 773, 204, 727, 662, 569, 560, 299, 794, 813, 468, 319, 478, 609, 824, 787, 610, 853, 732, 807, 294, 649, 192, 379, 426, 893, 100, 399, 110, 689, 456, 867, 242, 37, 364, 887, 822, 729, 720, 459, 58, 77, 628, 479, 638, 769, 88, 51, 770, 117, 892, 71, 454, 809, 352, 539, 586, 157, 260, 559, 270, 849, 616, 131, 402, 197, 524, 151, 86, 889, 880, 619, 218, 237, 788, 639, 798, 33, 248, 211, 34, 277, 156, 231, 614, 73, 512, 699, 746, 317, 420, 719, 430, 113, 776, 291, 562, 357, 684, 311, 246, 153, 144, 779, 378, 397, 52, 799, 62, 193, 408, 371, 194, 437, 316, 391, 774, 233, 672, 859, 10, 477, 580, 879, 590, 273, 40, 451, 722, 517, 844, 471, 406, 313, 304, 43, 538, 557, 212, 63, 222, 353, 568, 531, 354, 597, 476, 551, 38, 393, 832, 123, 170, 637, 740, 143, 750, 433, 200, 611, 882, 677, 108, 631, 566, 473, 464, 203, 698, 717, 372, 223, 382, 513, 728, 691, 514, 757, 636, 711, 198, 553, 96, 283, 330, 797, 4, 303, 14, 593, 360, 771, 146, 837, 268, 791, 726, 633, 624, 363, 858, 877, 532, 383, 542, 673, 888, 851, 674, 21, 796, 871, 358, 713, 256, 443, 490, 61, 164, 463, 174, 753, 520, 35, 306, 101, 428, 55, 886, 793, 784, 523, 122, 141, 692, 543, 702, 833, 152, 115, 834, 181, 60, 135, 518, 873, 416, 603, 650, 221, 324, 623, 334, 17, 680, 195, 466, 261, 588, 215, 150, 57, 48, 683, 282, 301, 852, 703, 862, 97, 312, 275, 98, 341, 220, 295, 678, 137, 576, 763, 810, 381, 484, 783, 494, 177, 840, 355, 626, 421, 748, 375, 310, 217, 208, 843, 442, 461, 116, 863, 126, 257, 472, 435, 258, 501, 380, 455, 838, 297, 736, 27, 74, 541, 644, 47, 654, 337, 104, 515, 786, 581, 12, 535, 470, 377, 368, 107, 602, 621, 276, 127, 286, 417, 632, 595, 418, 661, 540, 615, 102, 457]\n"
     ]
    }
   ],
   "source": [
    "a = Generator(0,29,187,896) # atitinka TKS (0,29,187,896)\n",
    "seq1=a.generate(896)\n",
    "print(seq1)"
   ]
  },
  {
   "cell_type": "code",
   "execution_count": 3,
   "id": "hybrid-death",
   "metadata": {},
   "outputs": [
    {
     "name": "stdout",
     "output_type": "stream",
     "text": [
      "[0, 731, 226, 339, 143, 565, 678, 482, 904, 90, 821, 316, 429, 233, 655, 768, 572, 67, 180, 911, 406, 519, 323, 745, 858, 662, 157, 270, 74, 496, 609, 413, 835, 21, 752, 247, 360, 164, 586, 699, 503, 925, 111, 842, 337, 450, 254, 676, 789, 593, 88, 201, 5, 427, 540, 344, 766, 879, 683, 178, 291, 95, 517, 630, 434, 856, 42, 773, 268, 381, 185, 607, 720, 524, 19, 132, 863, 358, 471, 275, 697, 810, 614, 109, 222, 26, 448, 561, 365, 787, 900, 704, 199, 312, 116, 538, 651, 455, 877, 63, 794, 289, 402, 206, 628, 741, 545, 40, 153, 884, 379, 492, 296, 718, 831, 635, 130, 243, 47, 469, 582, 386, 808, 921, 725, 220, 333, 137, 559, 672, 476, 898, 84, 815, 310, 423, 227, 649, 762, 566, 61, 174, 905, 400, 513, 317, 739, 852, 656, 151, 264, 68, 490, 603, 407, 829, 15, 746, 241, 354, 158, 580, 693, 497, 919, 105, 836, 331, 444, 248, 670, 783, 587, 82, 195, 926, 421, 534, 338, 760, 873, 677, 172, 285, 89, 511, 624, 428, 850, 36, 767, 262, 375, 179, 601, 714, 518, 13, 126, 857, 352, 465, 269, 691, 804, 608, 103, 216, 20, 442, 555, 359, 781, 894, 698, 193, 306, 110, 532, 645, 449, 871, 57, 788, 283, 396, 200, 622, 735, 539, 34, 147, 878, 373, 486, 290, 712, 825, 629, 124, 237, 41, 463, 576, 380, 802, 915, 719, 214, 327, 131, 553, 666, 470, 892, 78, 809, 304, 417, 221, 643, 756, 560, 55, 168, 899, 394, 507, 311, 733, 846, 650, 145, 258, 62, 484, 597, 401, 823, 9, 740, 235, 348, 152, 574, 687, 491, 913, 99, 830, 325, 438, 242, 664, 777, 581, 76, 189, 920, 415, 528, 332, 754, 867, 671, 166, 279, 83, 505, 618, 422, 844, 30, 761, 256, 369, 173, 595, 708, 512, 7, 120, 851, 346, 459, 263, 685, 798, 602, 97, 210, 14, 436, 549, 353, 775, 888, 692, 187, 300, 104, 526, 639, 443, 865, 51, 782, 277, 390, 194, 616, 729, 533, 28, 141, 872, 367, 480, 284, 706, 819, 623, 118, 231, 35, 457, 570, 374, 796, 909, 713, 208, 321, 125, 547, 660, 464, 886, 72, 803, 298, 411, 215, 637, 750, 554, 49, 162, 893, 388, 501, 305, 727, 840, 644, 139, 252, 56, 478, 591, 395, 817, 3, 734, 229, 342, 146, 568, 681, 485, 907, 93, 824, 319, 432, 236, 658, 771, 575, 70, 183, 914, 409, 522, 326, 748, 861, 665, 160, 273, 77, 499, 612, 416, 838, 24, 755, 250, 363, 167, 589, 702, 506, 1, 114, 845, 340, 453, 257, 679, 792, 596, 91, 204, 8, 430, 543, 347, 769, 882, 686, 181, 294, 98, 520, 633, 437, 859, 45, 776, 271, 384, 188, 610, 723, 527, 22, 135, 866, 361, 474, 278, 700, 813, 617, 112, 225, 29, 451, 564, 368, 790, 903, 707, 202, 315, 119, 541, 654, 458, 880, 66, 797, 292, 405, 209, 631, 744, 548, 43, 156, 887, 382, 495, 299, 721, 834, 638, 133, 246, 50, 472, 585, 389, 811, 924, 728, 223, 336, 140, 562, 675, 479, 901, 87, 818, 313, 426, 230, 652, 765, 569, 64, 177, 908, 403, 516, 320, 742, 855, 659, 154, 267, 71, 493, 606, 410, 832, 18, 749, 244, 357, 161, 583, 696, 500, 922, 108, 839, 334, 447, 251, 673, 786, 590, 85, 198, 2, 424, 537, 341, 763, 876, 680, 175, 288, 92, 514, 627, 431, 853, 39, 770, 265, 378, 182, 604, 717, 521, 16, 129, 860, 355, 468, 272, 694, 807, 611, 106, 219, 23, 445, 558, 362, 784, 897, 701, 196, 309, 113, 535, 648, 452, 874, 60, 791, 286, 399, 203, 625, 738, 542, 37, 150, 881, 376, 489, 293, 715, 828, 632, 127, 240, 44, 466, 579, 383, 805, 918, 722, 217, 330, 134, 556, 669, 473, 895, 81, 812, 307, 420, 224, 646, 759, 563, 58, 171, 902, 397, 510, 314, 736, 849, 653, 148, 261, 65, 487, 600, 404, 826, 12, 743, 238, 351, 155, 577, 690, 494, 916, 102, 833, 328, 441, 245, 667, 780, 584, 79, 192, 923, 418, 531, 335, 757, 870, 674, 169, 282, 86, 508, 621, 425, 847, 33, 764, 259, 372, 176, 598, 711, 515, 10, 123, 854, 349, 462, 266, 688, 801, 605, 100, 213, 17, 439, 552, 356, 778, 891, 695, 190, 303, 107, 529, 642, 446, 868, 54, 785, 280, 393, 197, 619, 732, 536, 31, 144, 875, 370, 483, 287, 709, 822, 626, 121, 234, 38, 460, 573, 377, 799, 912, 716, 211, 324, 128, 550, 663, 467, 889, 75, 806, 301, 414, 218, 640, 753, 557, 52, 165, 896, 391, 504, 308, 730, 843, 647, 142, 255, 59, 481, 594, 398, 820, 6, 737, 232, 345, 149, 571, 684, 488, 910, 96, 827, 322, 435, 239, 661, 774, 578, 73, 186, 917, 412, 525, 329, 751, 864, 668, 163, 276, 80, 502, 615, 419, 841, 27, 758, 253, 366, 170, 592, 705, 509, 4, 117, 848, 343, 456, 260, 682, 795, 599, 94, 207, 11, 433, 546, 350, 772, 885, 689, 184, 297, 101, 523, 636, 440, 862, 48, 779, 274, 387, 191, 613, 726, 530, 25, 138, 869, 364, 477, 281, 703, 816, 620, 115, 228, 32, 454, 567, 371, 793, 906, 710, 205, 318, 122, 544, 657, 461, 883, 69, 800, 295, 408, 212, 634, 747, 551, 46, 159, 890, 385, 498, 302, 724, 837, 641, 136, 249, 53, 475, 588, 392, 814]\n"
     ]
    }
   ],
   "source": [
    "b = Generator(0,310,731,927) # atitinka TKS (0,310,731,927)\n",
    "seq2=b.generate(927)\n",
    "print(seq2)"
   ]
  },
  {
   "cell_type": "markdown",
   "id": "pacific-details",
   "metadata": {},
   "source": [
    "## 2 Užduotis"
   ]
  },
  {
   "cell_type": "markdown",
   "id": "numeric-heart",
   "metadata": {},
   "source": [
    "Gautas sekas patikrinkite su dviem testais. Pirma su skaitmenų pirmuoju testu. Grupuokite į 8 grupes. Atstumus skaičiuokite tarp 1-uku, kai skaičiai pateikti dešimtainėje sistemoje. Kitą testą pasirinkite patys."
   ]
  },
  {
   "cell_type": "code",
   "execution_count": 4,
   "id": "tutorial-economy",
   "metadata": {},
   "outputs": [],
   "source": [
    "def chisq_test(categories,prob): # chi-kvadrato testas\n",
    "    n = sum(categories.values())\n",
    "    test_statistic = 0\n",
    "    for i in zip(categories.values(),prob):\n",
    "        test_statistic +=  ((i[0]-n*i[1])**2)/(n*i[1])\n",
    "    return test_statistic"
   ]
  },
  {
   "cell_type": "code",
   "execution_count": 5,
   "id": "spare-democrat",
   "metadata": {},
   "outputs": [],
   "source": [
    "import math\n",
    "from collections import Counter\n",
    "\n",
    "def digits_test(sequence,digit,intervals): # skaitmenų testas\n",
    "    string = ''.join([str(number).zfill(3) for number in sequence])\n",
    "    locations = [i[0] for i in enumerate(string) if i[1] == str(digit)]\n",
    "    distances = [locations[i+1]-locations[i]-1 for i in range(len(locations)-1)]\n",
    "    categories = {}\n",
    "    for i in intervals:\n",
    "        for j in distances:\n",
    "            if j <= i and i in categories:\n",
    "                categories[i] += 1\n",
    "            elif j<= i:\n",
    "                categories[i] = 1\n",
    "    values = list(categories.values())\n",
    "    values =[values[i] - values[i-1] if i!= 0 else values[i] for i in range(len(values))]\n",
    "    categories = dict(zip(categories.keys(),values))\n",
    "    probs =[0.9**(intervals[i-1]+1) if i == len(intervals)-1\\\n",
    "            else 0.1 if i == 0\n",
    "            else 0.9**(intervals[i-1]+1)-0.9**(intervals[i]+1) for i in range(len(intervals))]\n",
    "    return chisq_test(categories,probs)"
   ]
  },
  {
   "cell_type": "code",
   "execution_count": 6,
   "id": "maritime-marathon",
   "metadata": {},
   "outputs": [],
   "source": [
    "groups1 = [0,1,3,5,8,12,19,math.inf] # grupės intervalams su panašiomis tikimybėmis pakliūti į kiekvieną \n",
    "groups2 = [0,1,2,3,4,6,8,10,13,17,22,math.inf]"
   ]
  },
  {
   "cell_type": "code",
   "execution_count": 7,
   "id": "documentary-patio",
   "metadata": {},
   "outputs": [
    {
     "name": "stdout",
     "output_type": "stream",
     "text": [
      "Skaitmenų testas\n",
      "\n",
      "Grupes   Pirmoji seka    Antroji seka\n",
      "  8:        6.963624       20.716398\n",
      " 12:        8.022894       34.891381\n"
     ]
    }
   ],
   "source": [
    "print(\"Skaitmenų testas\\n\\nGrupes   Pirmoji seka    Antroji seka\") # skaitmenų testo rezultatai\n",
    "for i in [groups1,groups2]:\n",
    "        print(\"{:3d}: {:15f} {:15f}\".format(len(i),digits_test(seq1,1,i), digits_test(seq2,1,i)))"
   ]
  },
  {
   "cell_type": "code",
   "execution_count": 8,
   "id": "meaningful-controversy",
   "metadata": {},
   "outputs": [],
   "source": [
    "def permutations_test(sequence,size): # kėlinių testas\n",
    "    permutations = []\n",
    "    groups = zip(*(iter(sequence),) * size)\n",
    "    for i in groups:\n",
    "        permutations.append(\"\".join(str(n) for n in sorted(range(len(i)), key=lambda k: i[k])))\n",
    "    values = Counter(permutations)\n",
    "    return chisq_test(values,[1/math.factorial(size) for i in values])"
   ]
  },
  {
   "cell_type": "code",
   "execution_count": 9,
   "id": "south-beverage",
   "metadata": {
    "scrolled": true
   },
   "outputs": [
    {
     "name": "stdout",
     "output_type": "stream",
     "text": [
      "Kėlinių testas\n",
      "\n",
      "k     Pirmoji seka    Antroji seka\n",
      "2:        0.223214        3.993521\n",
      "3:        1.516779      278.344660\n",
      "4:      112.690476      269.915584\n"
     ]
    }
   ],
   "source": [
    "print(\"Kėlinių testas\\n\\nk     Pirmoji seka    Antroji seka\") # kėlinių testo rezultatai\n",
    "for i in range(2,5):\n",
    "        print(\"{}: {:15f} {:15f}\".format(i,permutations_test(seq1,i), permutations_test(seq2,i)))"
   ]
  },
  {
   "cell_type": "markdown",
   "id": "expensive-transsexual",
   "metadata": {},
   "source": [
    "## 3 Užduotis"
   ]
  },
  {
   "cell_type": "markdown",
   "id": "gorgeous-cosmetic",
   "metadata": {},
   "source": [
    "Naudodami sugeneruotą geresniąją pseudoatsitiktinių skaičių seką sumodeliuokite du atsitiktinius dydžius, vieną turintį  𝜒2 skirstinį 5 laisvės laipsniais, o kitą parinkite patys."
   ]
  },
  {
   "cell_type": "code",
   "execution_count": 146,
   "id": "settled-design",
   "metadata": {},
   "outputs": [],
   "source": [
    "class Distributions(Generator):\n",
    "    def __init__(self,x,a,c,m):\n",
    "        super().__init__(x,a,c,m)    \n",
    "    \n",
    "    def uniform(self,n,a=0,b=1):\n",
    "        return [i/self.m*(b-a)+a for i in self.generate(n)]  \n",
    "    \n",
    "    def exponential(self,n):\n",
    "        u = self.uniform(n)\n",
    "        return [-math.log(i) if i != 0 else 1 for i in u]\n",
    "      \n",
    "    def normal(self,n):\n",
    "        v1 = self.uniform(n,-1,1)\n",
    "        self.generate(5)\n",
    "        v2 = self.uniform(n,-1,1)\n",
    "        index = [i[0] for i in enumerate(zip(v1,v2)) if i[1][0]**2+i[1][1]**2 < 1]\n",
    "        while len(index) < n:\n",
    "            self.generate(5)\n",
    "            v1.extend(self.uniform(n//4,-1,1))\n",
    "            self.generate(5)\n",
    "            v2.extend(self.uniform(n//4,-1,1))\n",
    "            index.extend([i[0] for i in enumerate(zip(v1,v2)) \\\n",
    "                          if i[1][0]**2+i[1][1]**2 < 1])\n",
    "        return [v1[i]*math.sqrt(-2*math.log((v1[i]**2+v2[i]**2))/(v1[i]**2+v2[i]**2)) for i in index][0:n]\n",
    "    \n",
    "    def chisq(self,n,df=1):\n",
    "        lst = []\n",
    "        exp = []\n",
    "        norm = []\n",
    "        if df%2==0:\n",
    "            for i in range(df//2):\n",
    "                exp.append(self.exponential(n))\n",
    "                self.generate(5)\n",
    "            for i in zip(*exp):\n",
    "                lst.append(2*sum(i))\n",
    "        else:\n",
    "            for i in range(df//2):\n",
    "                exp.append(self.exponential(n))\n",
    "                self.generate(5)\n",
    "            norm = self.normal(n)\n",
    "            self.generate(5)\n",
    "            for i in zip(*exp):\n",
    "                lst.append(2*sum(i))\n",
    "            lst = [lst[i]+norm[i]**2 for i in range(len(lst))]\n",
    "        return lst\n",
    "       \n",
    "    def t(self,n,df=1):\n",
    "        chisq = self.chisq(n,df)\n",
    "        norm = self.normal(n)\n",
    "        return [norm[i]/math.sqrt(chisq[i]/df) for i in range(len(chisq))]   "
   ]
  },
  {
   "cell_type": "code",
   "execution_count": 156,
   "id": "clean-appointment",
   "metadata": {
    "scrolled": false
   },
   "outputs": [
    {
     "name": "stdout",
     "output_type": "stream",
     "text": [
      "100 a.d. turinčio chi-kvadrato skirstinį su 5 laisvės laipsniais realizacijų:\n",
      "\n",
      "[5.153585415691078, 4.5226829019094446, 11.372601859467096, 1.1783174460245398, 2.896504930466531, 6.279398523410253, 7.071199022825997, 5.490312903993201, 4.271164633017733, 2.4835687118508907, 10.227340807515816, 8.00585003299203, 3.669455443619971, 8.598762146577076, 13.418212810306834, 3.9374254569687928, 4.4311279906682195, 5.850143806255188, 3.5861544487124393, 2.6968557133754616, 3.2891676274304236, 2.9921333417238674, 5.202486692677452, 2.676022385688926, 2.7211822983675464, 0.7440125446266744, 3.2979485544490643, 2.803150565082497, 0.6230860303143541, 3.9948297262494163, 5.126525012060146, 10.231700583586822, 5.169845215212638, 2.449193887902635, 10.789809992415776, 0.5802220358617403, 6.584257011767841, 3.96557730804303, 7.379397064306627, 3.725859910937367, 11.764693565228454, 4.929209729665293, 4.081187295536566, 14.388057435947944, 8.937853352170317, 3.198935091844178, 4.980545190158168, 2.2032443225763108, 3.7330863798187583, 4.502086044835332, 10.230005838906084, 7.515521154804931, 2.6358403403854753, 12.144067687717078, 2.950669722906383, 2.430911486808483, 12.50278669577536, 11.46058633163896, 2.7130082114744916, 5.190165906547089, 5.421344874485574, 7.700967871979981, 3.167631768000963, 3.917174386009036, 4.073428875549906, 1.2443478599950506, 1.6833007745262076, 8.88565206099504, 4.080890401195825, 2.9107922260592365, 5.085388786671894, 3.638514232804183, 5.815901200459106, 5.454585071377407, 2.321708677765539, 5.326428828618486, 4.291887024064692, 6.486292945039346, 7.533419731699942, 0.9330789908465535, 7.383686114253153, 2.137484476189632, 3.9142903753314426, 4.223619785838248, 3.769375838548102, 4.3034575399445645, 2.861328786588083, 18.888105476992056, 8.049718831905192, 5.444357245999866, 12.583371971208427, 3.9540807506208173, 15.627660406077439, 4.226697096047093, 3.228938066333375, 8.186662443343552, 3.3076536445985334, 4.837977500757007, 0.6876464115887541, 5.297154288989349]\n",
      "\n",
      "Vidurkis: 5.4486553821839765\n"
     ]
    }
   ],
   "source": [
    "dist = Distributions(0,29,187,896)\n",
    "chisq= dist.chisq(100,5)\n",
    "print(\"100 a.d. turinčio chi-kvadrato skirstinį su 5 laisvės laipsniais realizacijų:\\n\\n{}\\n\\n\\\n",
    "Vidurkis: {}\".format(chisq,np.mean(chisq)))"
   ]
  },
  {
   "cell_type": "code",
   "execution_count": 153,
   "id": "hired-copyright",
   "metadata": {},
   "outputs": [
    {
     "name": "stdout",
     "output_type": "stream",
     "text": [
      "100 a.d. turinčio t-skirstinį su 10 laisvės laipsnių realizacijų:\n",
      "\n",
      "[0.476808125128011, 0.1725860889781931, -0.4231100042591759, -1.0483720614949354, -2.7845484941238223, 1.2510788879132122, 0.874583544212259, -0.5029604155369043, 1.9662968778398426, 0.4679701897425311, 1.0316944388430505, -0.3676637649845656, -1.1910222282867622, -0.6219162763671003, 1.3260523569584393, 0.8175596097626945, -0.3878126265074291, -0.021004137284241085, -0.7723768249970713, 1.3852365798100814, -0.3561857164340051, 0.3626677490030184, 0.319025455782784, 0.14447112927663827, -0.3904231132651459, 1.3548869116076112, 0.7481447456769849, -0.7841887900375664, -1.3533365346475097, -0.3753934938647082, 1.123499495658053, 0.2609237444172914, 0.1711299873375174, 1.8857922365089268, 1.2355739246875619, 0.3978073375893668, 1.2404493152645801, -0.8112949106672156, 0.12286643791153226, -0.8053586584127579, -0.9492679522770575, -2.6958014196793285, -1.0283665434948979, 0.45555937762344173, -0.10494923494296607, 1.3928310482780877, -1.3584500533187192, 0.819090580958574, 3.016758679023091, 1.6504368558471685, -0.6422765972351554, 0.5341687695552852, 0.455715210119019, 2.1649455345642123, -0.13895588662827593, 1.4126443785251162, 0.4823712734347788, 1.0860658144793016, -1.8744166179286437, 0.19437293710260728, -1.6372293512098477, -0.012450462097546421, 0.5712496764635195, -1.6020708109148942, 2.3703328616846018, -1.9098795136999551, 1.5778430177872445, 0.16752755842196004, -0.3328967799715784, -0.9346956912523496, -0.6833351178151648, -0.08374712846373529, -0.40804697144649305, 0.2219658233582395, 0.6936924989879204, 0.6606548667693481, 2.4395149448825304, -0.5400087347094291, -1.1700668203712312, 1.326862151987509, 0.36394953842131444, 0.4473625719177793, 0.21227625582719128, -0.618433517366227, -1.2549550871900654, -2.3188086477920438, 1.6455443137310555, 0.42250050192488847, -0.4559438766872248, 1.4723945222969217, 0.23886170205984453, 1.7337131559401624, -0.28483246056250017, -0.9109123022162532, -1.0608919921250057, 1.2504761289038584, 0.6660064930829229, -0.3358421601404693, -0.019059615383777283, -0.8288664695191088]\n",
      "\n",
      "Vidurkis: 0.12092368346258814\n"
     ]
    }
   ],
   "source": [
    "dist = Distributions(0,29,187,896)\n",
    "t= dist.t(100,9)\n",
    "print(\"100 a.d. turinčio t-skirstinį su 10 laisvės laipsnių realizacijų:\\n\\n{}\\n\\n\\\n",
    "Vidurkis: {}\".format(t,np.mean(t)))"
   ]
  },
  {
   "cell_type": "markdown",
   "id": "strong-magic",
   "metadata": {},
   "source": [
    "## 4 Užduotis"
   ]
  },
  {
   "cell_type": "markdown",
   "id": "authorized-protein",
   "metadata": {},
   "source": [
    "Naudodami sugeneruotą geresniąją pseudoatsitiktinių skaičių seką ir parinkdami tankius (tolygiai pasiskirsčiusio intervale [0, 3] atsitiktinio dydžio ir kitą savo nuožiūra) suskaičiuokite integralą: $\\large \\int_{0}^{3}{e^xln{\\left(1+x\\right)}dx}$"
   ]
  },
  {
   "cell_type": "markdown",
   "id": "broadband-thomson",
   "metadata": {},
   "source": [
    "Pirmasis tankis $\\large p_{\\epsilon 1}(x) = \\frac{1}{3}$\n",
    "\n",
    "Taip pasiskirsčiusį atsitiktinį dydį generuojame iš $\\large \\epsilon = 3u$ ,kur $\\large u \\in U(0,1)$\n",
    "\n",
    "Iš čia pagal CRT $\\large \\frac{3}{N}\\sum_{i=1}^N e^{\\epsilon_i}ln(1+\\epsilon_{i}) \\approx \\int_{0}^{3}{e^xln{\\left(1+x\\right)}dx}$\n",
    "\n",
    "----------------------\n",
    "\n",
    "Tarkim antrasis tankis $\\large p_{\\epsilon 2}(x)=\\frac{x^3}{20.25}$. \n",
    "\n",
    "Tada iš $\\large F_{\\epsilon}(\\epsilon)=\\int_0^{\\epsilon} \\frac{x^3}{20.25} dx$ gauname, kad $\\large \\epsilon= 3\\sqrt[4]{u}$, kur $\\large u\\in U(0,1)$\n",
    "\n",
    "Iš čia pagal CRT $\\large \\frac{20.25}{N}\\sum_{i=1}^N \\frac{e^{\\epsilon_i}ln(1+\\epsilon_{i})}{\\epsilon_{i}^3}\\approx \\int_{0}^{3}{e^xln{\\left(1+x\\right)}dx}$"
   ]
  },
  {
   "cell_type": "code",
   "execution_count": 125,
   "id": "resistant-sierra",
   "metadata": {},
   "outputs": [
    {
     "name": "stdout",
     "output_type": "stream",
     "text": [
      "Integralas apytiksliai lygus:\n",
      "Naudojant pirmą tankį: 21.279570\n",
      "Naudojant antrą tankį: 21.220390\n"
     ]
    }
   ],
   "source": [
    "dist = Distributions(0,29,187,896)\n",
    "dist.uniform(1)\n",
    "n=896\n",
    "epsilon1 = [1] # pakeičiu 0 į 1 siekdamas išvengti dalybos iš 0\n",
    "epsilon2 = [1]\n",
    "u = dist.uniform(n-1)\n",
    "epsilon1.extend([3*i for i in u])\n",
    "epsilon2.extend([3*math.sqrt(math.sqrt(i)) for i in u])\n",
    "print(\"Integralas apytiksliai lygus:\")\n",
    "print(\"Naudojant pirmą tankį: {:f}\".format((sum([math.exp(i)*math.log(1+i) for i in epsilon1])*3/n)))\n",
    "print(\"Naudojant antrą tankį: {:f}\".format(sum([math.exp(i)*math.log(1+i)/i**3 for i in epsilon2])*20.25/n))"
   ]
  }
 ],
 "metadata": {
  "kernelspec": {
   "display_name": "Python 3",
   "language": "python",
   "name": "python3"
  },
  "language_info": {
   "codemirror_mode": {
    "name": "ipython",
    "version": 3
   },
   "file_extension": ".py",
   "mimetype": "text/x-python",
   "name": "python",
   "nbconvert_exporter": "python",
   "pygments_lexer": "ipython3",
   "version": "3.8.3"
  },
  "varInspector": {
   "cols": {
    "lenName": 16,
    "lenType": 16,
    "lenVar": 40
   },
   "kernels_config": {
    "python": {
     "delete_cmd_postfix": "",
     "delete_cmd_prefix": "del ",
     "library": "var_list.py",
     "varRefreshCmd": "print(var_dic_list())"
    },
    "r": {
     "delete_cmd_postfix": ") ",
     "delete_cmd_prefix": "rm(",
     "library": "var_list.r",
     "varRefreshCmd": "cat(var_dic_list()) "
    }
   },
   "types_to_exclude": [
    "module",
    "function",
    "builtin_function_or_method",
    "instance",
    "_Feature"
   ],
   "window_display": false
  }
 },
 "nbformat": 4,
 "nbformat_minor": 5
}
